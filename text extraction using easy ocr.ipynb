{
 "cells": [
  {
   "cell_type": "code",
   "execution_count": 1,
   "id": "5af772f5",
   "metadata": {},
   "outputs": [],
   "source": [
    "import easyocr\n",
    "import cv2\n",
    "import matplotlib.pyplot as plt\n",
    "import numpy as np"
   ]
  },
  {
   "cell_type": "code",
   "execution_count": 17,
   "id": "9895d1f9",
   "metadata": {},
   "outputs": [],
   "source": [
    "image = 'test2.png'"
   ]
  },
  {
   "cell_type": "code",
   "execution_count": 46,
   "id": "ea707908",
   "metadata": {},
   "outputs": [
    {
     "name": "stderr",
     "output_type": "stream",
     "text": [
      "Using CPU. Note: This module is much faster with a GPU.\n"
     ]
    }
   ],
   "source": [
    "reader = easyocr.Reader(['en'],gpu=False)\n",
    "result = reader.readtext(image)\n",
    "# result"
   ]
  },
  {
   "cell_type": "code",
   "execution_count": 19,
   "id": "de8d6c5a",
   "metadata": {},
   "outputs": [
    {
     "name": "stderr",
     "output_type": "stream",
     "text": [
      "C:\\Users\\10710548\\AppData\\Local\\Temp\\ipykernel_15456\\782642828.py:1: VisibleDeprecationWarning: Creating an ndarray from ragged nested sequences (which is a list-or-tuple of lists-or-tuples-or ndarrays with different lengths or shapes) is deprecated. If you meant to do this, you must specify 'dtype=object' when creating the ndarray.\n",
      "  result = np.array(result)\n"
     ]
    }
   ],
   "source": [
    "result = np.array(result)"
   ]
  },
  {
   "cell_type": "code",
   "execution_count": 20,
   "id": "0d01908c",
   "metadata": {},
   "outputs": [
    {
     "name": "stdout",
     "output_type": "stream",
     "text": [
      "Evaluation benchmarks GLUE SuperGLUE HELM MMLU (Massive Multitask Language Understanding) BIG-bench aws DeeplearningAL 1.08 5.09 "
     ]
    }
   ],
   "source": [
    "x = ''\n",
    "for text in result:\n",
    "    x = x + ' ' + text[1] \n",
    "    print(text[1], end=' ')"
   ]
  },
  {
   "cell_type": "code",
   "execution_count": 16,
   "id": "852a5d05",
   "metadata": {},
   "outputs": [],
   "source": [
    "with open(image+'.txt','w',encoding='utf8') as f:\n",
    "    f.write(x)"
   ]
  },
  {
   "cell_type": "markdown",
   "id": "35bfa8aa",
   "metadata": {},
   "source": [
    "# Reading mulitple image files\n"
   ]
  },
  {
   "cell_type": "code",
   "execution_count": 2,
   "id": "0a34439d",
   "metadata": {},
   "outputs": [],
   "source": [
    "import glob\n",
    "imdir = ''\n",
    "ext = ['png', 'jpg', 'gif']    # Add image formats here"
   ]
  },
  {
   "cell_type": "code",
   "execution_count": null,
   "id": "30745c2d",
   "metadata": {},
   "outputs": [],
   "source": []
  },
  {
   "cell_type": "code",
   "execution_count": 3,
   "id": "9eeb57c5",
   "metadata": {},
   "outputs": [
    {
     "name": "stdout",
     "output_type": "stream",
     "text": [
      "['test.png', 'test2.png']\n",
      "['Capture.JPG']\n",
      "[]\n"
     ]
    }
   ],
   "source": [
    "for e in ext:\n",
    "    print(glob.glob(imdir + '*.' + e))\n",
    "    "
   ]
  },
  {
   "attachments": {
    "image.png": {
     "image/png": "[encoded data removed]"
    }
   },
   "cell_type": "markdown",
   "id": "cd296c76",
   "metadata": {},
   "source": [
    "![image.png](attachment:image.png)"
   ]
  },
  {
   "cell_type": "code",
   "execution_count": 4,
   "id": "034cde0b",
   "metadata": {
    "scrolled": false
   },
   "outputs": [
    {
     "name": "stderr",
     "output_type": "stream",
     "text": [
      "Using CPU. Note: This module is much faster with a GPU.\n",
      "Using CPU. Note: This module is much faster with a GPU.\n"
     ]
    },
    {
     "name": "stdout",
     "output_type": "stream",
     "text": [
      "ReAct instructions define the action space Solve a question answering task with interleaving Thought _ Action, Observation steps  Thought can reason about the current situation, and Action can be three types: (1) Search[entity] , which searches the exact entity on Wikipedia and returns the first paragraph if it exists  If not , it will return some similar entities to search . (2) Lookup[keyword] which returns the next sentence containing keyword in the current passage  (3) Finish[answer] _ which returns the answer and finishes the task _ Here are some examples _ aws DeeplearningAL 4.35 9.13 "
     ]
    },
    {
     "name": "stderr",
     "output_type": "stream",
     "text": [
      "Using CPU. Note: This module is much faster with a GPU.\n"
     ]
    },
    {
     "name": "stdout",
     "output_type": "stream",
     "text": [
      "Evaluation benchmarks GLUE SuperGLUE HELM MMLU (Massive Multitask Language Understanding) BIG-bench aws DeeplearningAL 1.08 5.09 Most LLM applications have a conversational interface: An essential component of a conversation is able to refer to information introduced earlier in the conversation: At bare minimum; conversational system should be able to access some window of past messages directly: A more complex system will need to have a world model that it is constantly updating; which allows it to do like maintain information about entities and their relationships. We call this to store information about past interactions \"memory\". LangChain provides a lot of utilities for adding memory to a system: These utilities can be used by themselves or incorporated seamlessly into a chain: memory system needs to support two basic actions: reading and writing: Recall that every chain defines some core execution logic that expects certain inputs Some of these inputs come directly from the user; but some of these inputs can come from memory A chain will interact with its memory system twice in a given run: 1. AFTER receiving the initial user inputs but BEFORE executing the core logic, a chain will READ from its memory system and augment the user inputs. 2. AFTER executing the core logic but BEFORE returning the answer; chain will WRITE the inputs and outputs of the current run to memory, so that they can be referred to in future runs being things ability "
     ]
    }
   ],
   "source": [
    "files = []\n",
    "[files.extend(glob.glob(imdir + '*.' + e)) for e in ext]\n",
    "reader = easyocr.Reader(['en'],gpu=False)\n",
    "for image in files:\n",
    "    result = reader.readtext(image)\n",
    "    x = ''\n",
    "    for text in result:\n",
    "        x = x + ' ' + text[1] \n",
    "        print(text[1], end=' ')\n",
    "    with open(image+'.txt','w',encoding='utf8') as f:\n",
    "        f.write(x)"
   ]
  },
  {
   "cell_type": "code",
   "execution_count": 50,
   "id": "84e4ab8c",
   "metadata": {},
   "outputs": [],
   "source": []
  },
  {
   "cell_type": "code",
   "execution_count": null,
   "id": "fc6c3611",
   "metadata": {},
   "outputs": [],
   "source": []
  }
 ],
 "metadata": {
  "kernelspec": {
   "display_name": "Python 3 (ipykernel)",
   "language": "python",
   "name": "python3"
  },
  "language_info": {
   "codemirror_mode": {
    "name": "ipython",
    "version": 3
   },
   "file_extension": ".py",
   "mimetype": "text/x-python",
   "name": "python",
   "nbconvert_exporter": "python",
   "pygments_lexer": "ipython3",
   "version": "3.9.13"
  }
 },
 "nbformat": 4,
 "nbformat_minor": 5
}
